{
 "cells": [
  {
   "cell_type": "code",
   "execution_count": 199,
   "metadata": {},
   "outputs": [
    {
     "name": "stdout",
     "output_type": "stream",
     "text": [
      "Requirement already satisfied: ahpy in c:\\users\\alexander\\appdata\\local\\programs\\python\\python310\\lib\\site-packages (2.0)\n",
      "Requirement already satisfied: scipy in c:\\users\\alexander\\appdata\\local\\programs\\python\\python310\\lib\\site-packages (from ahpy) (1.10.1)\n",
      "Requirement already satisfied: numpy in c:\\users\\alexander\\appdata\\local\\programs\\python\\python310\\lib\\site-packages (from ahpy) (1.22.3)\n",
      "Requirement already satisfied: PrettyTable in c:\\users\\alexander\\appdata\\local\\programs\\python\\python310\\lib\\site-packages (3.6.0)\n",
      "Requirement already satisfied: wcwidth in c:\\users\\alexander\\appdata\\local\\programs\\python\\python310\\lib\\site-packages (from PrettyTable) (0.2.5)\n",
      "Requirement already satisfied: pandas in c:\\users\\alexander\\appdata\\local\\programs\\python\\python310\\lib\\site-packages (1.4.2)\n",
      "Requirement already satisfied: numpy>=1.21.0 in c:\\users\\alexander\\appdata\\local\\programs\\python\\python310\\lib\\site-packages (from pandas) (1.22.3)\n",
      "Requirement already satisfied: pytz>=2020.1 in c:\\users\\alexander\\appdata\\local\\programs\\python\\python310\\lib\\site-packages (from pandas) (2022.1)\n",
      "Requirement already satisfied: python-dateutil>=2.8.1 in c:\\users\\alexander\\appdata\\local\\programs\\python\\python310\\lib\\site-packages (from pandas) (2.8.2)\n",
      "Requirement already satisfied: six>=1.5 in c:\\users\\alexander\\appdata\\local\\programs\\python\\python310\\lib\\site-packages (from python-dateutil>=2.8.1->pandas) (1.16.0)\n",
      "Requirement already satisfied: jinja2 in c:\\users\\alexander\\appdata\\local\\programs\\python\\python310\\lib\\site-packages (3.1.2)\n",
      "Requirement already satisfied: MarkupSafe>=2.0 in c:\\users\\alexander\\appdata\\local\\programs\\python\\python310\\lib\\site-packages (from jinja2) (2.1.2)\n"
     ]
    }
   ],
   "source": [
    "! python -m pip install ahpy\n",
    "! pip install PrettyTable\n",
    "! pip install pandas\n",
    "! pip install jinja2"
   ]
  },
  {
   "cell_type": "code",
   "execution_count": 200,
   "metadata": {},
   "outputs": [],
   "source": [
    "import numpy as np\n",
    "import ahpy\n",
    "import prettytable"
   ]
  },
  {
   "cell_type": "code",
   "execution_count": 201,
   "metadata": {},
   "outputs": [],
   "source": [
    "cov_users = 'covered users'\n",
    "impl_speed = 'implementation speed'\n",
    "conv_users = 'convenience for users'\n",
    "impl_cost = 'implementation cost'"
   ]
  },
  {
   "cell_type": "code",
   "execution_count": 202,
   "metadata": {},
   "outputs": [],
   "source": [
    "android = 'Publish android app'\n",
    "web_version = 'Improve web version for smartphones'\n",
    "extended_old_sup = 'Extended support for old versions'\n",
    "limited_old_sup = 'Limited support for old versions'"
   ]
  },
  {
   "cell_type": "code",
   "execution_count": 203,
   "metadata": {},
   "outputs": [
    {
     "name": "stdout",
     "output_type": "stream",
     "text": [
      "{('covered users', 'implementation speed'): 1, ('covered users', 'convenience for users'): 5, ('covered users', 'implementation cost'): 5, ('implementation speed', 'convenience for users'): 3, ('implementation speed', 'implementation cost'): 7, ('convenience for users', 'implementation cost'): 1}\n"
     ]
    }
   ],
   "source": [
    "criteria_comparisons = {\n",
    "    (cov_users, impl_speed): 1,\n",
    "    (cov_users, conv_users): 5,\n",
    "    (cov_users, impl_cost): 5,\n",
    "    (impl_speed, conv_users): 3,\n",
    "    (impl_speed, impl_cost): 7,\n",
    "    (conv_users, impl_cost): 1,\n",
    "}\n",
    "print(criteria_comparisons)"
   ]
  },
  {
   "cell_type": "code",
   "execution_count": 204,
   "metadata": {},
   "outputs": [],
   "source": [
    "# for criteria of covered users\n",
    "crit_cov_users = {\n",
    "    (android, web_version): 1/5,\n",
    "    (android, extended_old_sup) : 1/3,\n",
    "    (android, limited_old_sup) : 1/3,\n",
    "    (web_version, extended_old_sup) : 5,\n",
    "    (web_version, limited_old_sup) : 5,\n",
    "    (extended_old_sup, limited_old_sup): 1,\n",
    "}"
   ]
  },
  {
   "cell_type": "code",
   "execution_count": 205,
   "metadata": {},
   "outputs": [],
   "source": [
    "# for criteria of implementation speed\n",
    "crit_impl_speed = {\n",
    "    (android, web_version): 7, \n",
    "    (android, extended_old_sup) : 5,\n",
    "    (android, limited_old_sup) : 3,\n",
    "    (web_version, extended_old_sup) : 1/3,\n",
    "    (web_version, limited_old_sup) : 1/3,\n",
    "    (extended_old_sup, limited_old_sup) : 1/3\n",
    "}"
   ]
  },
  {
   "cell_type": "code",
   "execution_count": 206,
   "metadata": {},
   "outputs": [],
   "source": [
    "# for criteria of convenience for users\n",
    "crit_conv_users = { \n",
    "    (android, web_version): 7,\n",
    "    (android, extended_old_sup) : 5,\n",
    "    (android, limited_old_sup) : 5,\n",
    "    (web_version, extended_old_sup): 1/3,\n",
    "    (web_version, limited_old_sup) : 1/3,\n",
    "    (extended_old_sup, limited_old_sup) : 2,\n",
    "}"
   ]
  },
  {
   "cell_type": "code",
   "execution_count": 207,
   "metadata": {},
   "outputs": [],
   "source": [
    "# for criteria of implementation cost\n",
    "crit_impl_cost = {\n",
    "    (android, web_version): 7,\n",
    "    (android, extended_old_sup): 9,\n",
    "    (android, limited_old_sup): 5,\n",
    "    (web_version, extended_old_sup) : 5,\n",
    "    (web_version, limited_old_sup) : 2,\n",
    "    (extended_old_sup, limited_old_sup) : 1/3\n",
    "}"
   ]
  },
  {
   "cell_type": "code",
   "execution_count": 208,
   "metadata": {},
   "outputs": [],
   "source": [
    "# creating comparisons\n",
    "comp_cov_users = ahpy.Compare(cov_users, crit_cov_users, precision=3, random_index='saaty')\n",
    "comp_impl_speed = ahpy.Compare(impl_speed, crit_impl_speed, precision=3, random_index='saaty')\n",
    "comp_conv_users = ahpy.Compare(conv_users, crit_conv_users, precision=3, random_index='saaty')\n",
    "comp_impl_cost = ahpy.Compare(impl_cost, crit_impl_cost, precision=3, random_index='saaty')\n",
    "\n",
    "comp_criteria = ahpy.Compare('Criteria', criteria_comparisons, precision=3, random_index=\"saaty\")\n",
    "comp_criteria.add_children([comp_cov_users, comp_impl_speed, comp_conv_users, comp_impl_cost])"
   ]
  },
  {
   "cell_type": "code",
   "execution_count": 209,
   "metadata": {},
   "outputs": [
    {
     "data": {
      "text/plain": [
       "{'Publish android app': 0.377,\n",
       " 'Improve web version for smartphones': 0.301,\n",
       " 'Limited support for old versions': 0.185,\n",
       " 'Extended support for old versions': 0.137}"
      ]
     },
     "execution_count": 209,
     "metadata": {},
     "output_type": "execute_result"
    }
   ],
   "source": [
    "comp_criteria.target_weights"
   ]
  },
  {
   "cell_type": "code",
   "execution_count": 210,
   "metadata": {},
   "outputs": [
    {
     "name": "stdout",
     "output_type": "stream",
     "text": [
      "{\n",
      "    \"name\": \"Criteria\",\n",
      "    \"global_weight\": 1.0,\n",
      "    \"local_weight\": 1.0,\n",
      "    \"target_weights\": {\n",
      "        \"Publish android app\": 0.377,\n",
      "        \"Improve web version for smartphones\": 0.301,\n",
      "        \"Limited support for old versions\": 0.185,\n",
      "        \"Extended support for old versions\": 0.137\n",
      "    },\n",
      "    \"elements\": {\n",
      "        \"global_weights\": {\n",
      "            \"covered users\": 0.417,\n",
      "            \"implementation speed\": 0.408,\n",
      "            \"convenience for users\": 0.097,\n",
      "            \"implementation cost\": 0.078\n",
      "        },\n",
      "        \"local_weights\": {\n",
      "            \"covered users\": 0.417,\n",
      "            \"implementation speed\": 0.408,\n",
      "            \"convenience for users\": 0.097,\n",
      "            \"implementation cost\": 0.078\n",
      "        },\n",
      "        \"consistency_ratio\": 0.026\n",
      "    }\n",
      "}\n"
     ]
    }
   ],
   "source": [
    "report = comp_criteria.report(show=True)"
   ]
  },
  {
   "cell_type": "code",
   "execution_count": 211,
   "metadata": {},
   "outputs": [
    {
     "name": "stdout",
     "output_type": "stream",
     "text": [
      "+-----------------------+-----------------------+\n",
      "|   comparison matrix   | consistency ratio (%) |\n",
      "+-----------------------+-----------------------+\n",
      "|        criteria       |          2.6 %        |\n",
      "|     covered users     |          5.8 %        |\n",
      "|  implementation speed |          5.2 %        |\n",
      "| convenience for users |          5.0 %        |\n",
      "|  implementation cost  |          7.7 %        |\n",
      "+-----------------------+-----------------------+\n"
     ]
    }
   ],
   "source": [
    "pret = prettytable.PrettyTable()\n",
    "\n",
    "pret.field_names = [\"comparison matrix\", \"consistency ratio (%)\"]\n",
    "\n",
    "def format(cr):\n",
    "    return \"{cr: .1f} %\".format(cr=cr*100)\n",
    "\n",
    "pret.add_row([\"criteria\", format(cr=comp_criteria.consistency_ratio)])\n",
    "\n",
    "for i in [comp_cov_users, comp_impl_speed, comp_conv_users, comp_impl_cost]:\n",
    "    assert(i.consistency_ratio < 0.1)\n",
    "    pret.add_row([i.name, format(cr=i.consistency_ratio)])\n",
    "print(pret)"
   ]
  },
  {
   "cell_type": "code",
   "execution_count": 212,
   "metadata": {},
   "outputs": [],
   "source": [
    "import pandas as pd\n",
    "from fractions import Fraction"
   ]
  },
  {
   "cell_type": "code",
   "execution_count": 213,
   "metadata": {},
   "outputs": [
    {
     "name": "stdout",
     "output_type": "stream",
     "text": [
      "Requirement already satisfied: latextable in c:\\users\\alexander\\appdata\\local\\programs\\python\\python310\\lib\\site-packages (1.0.0)\n",
      "Requirement already satisfied: texttable in c:\\users\\alexander\\appdata\\local\\programs\\python\\python310\\lib\\site-packages (from latextable) (1.6.7)\n"
     ]
    }
   ],
   "source": [
    "! pip install latextable"
   ]
  },
  {
   "cell_type": "code",
   "execution_count": 214,
   "metadata": {},
   "outputs": [],
   "source": [
    "import latextable\n",
    "from texttable import Texttable"
   ]
  },
  {
   "cell_type": "code",
   "execution_count": 215,
   "metadata": {},
   "outputs": [],
   "source": [
    "def latex_matrix(matrix : ahpy.Compare):\n",
    "    table_1 = Texttable()\n",
    "    table_1.set_deco(Texttable.VLINES | Texttable.BORDER | Texttable.HLINES)\n",
    "    table_1.set_cols_align([\"c\",\"c\",\"c\",\"c\"])\n",
    "    formatted = [[str(Fraction(g).limit_denominator(10).real) for g in i] for i in matrix._matrix]\n",
    "    table_1.add_rows(formatted, header=False)\n",
    "    latex = latextable.draw_latex(table_1, caption=matrix.name)\n",
    "    index = latex.find(r\"\\\\\")\n",
    "    corrected = latex[:index] + latex[index+2:]\n",
    "    return corrected"
   ]
  },
  {
   "cell_type": "code",
   "execution_count": 216,
   "metadata": {},
   "outputs": [
    {
     "name": "stdout",
     "output_type": "stream",
     "text": [
      "[['criteria', ' 2.6 \\\\%'], ['covered users', ' 5.8 \\\\%'], ['implementation speed', ' 5.2 \\\\%'], ['convenience for users', ' 5.0 \\\\%'], ['implementation cost', ' 7.7 \\\\%']]\n"
     ]
    }
   ],
   "source": [
    "def format(cr):\n",
    "    return \"{cr: .1f} \\%\".format(cr=cr*100)\n",
    "\n",
    "crs = []\n",
    "crs.append([\"criteria\", format(cr=comp_criteria.consistency_ratio)])\n",
    "for i in [comp_cov_users, comp_impl_speed, comp_conv_users, comp_impl_cost]:\n",
    "    assert(i.consistency_ratio < 0.1)\n",
    "    crs.append([i.name, format(cr=i.consistency_ratio)])\n",
    "print(crs)\n",
    "\n",
    "\n",
    "def coefficient_ratio(matrix):\n",
    "    table_1 = Texttable()\n",
    "    table_1.set_cols_align([\"l\",\"c\"])\n",
    "    table_1.set_deco(Texttable.HEADER | Texttable.VLINES)\n",
    "    newm = [i for i in matrix]\n",
    "    newm.insert(0, [\"Comparison matrix\", \"Consistency ratio (\\%)\"])\n",
    "    table_1.add_rows(newm, header=True)\n",
    "    latex = latextable.draw_latex(table_1, caption=\"Consistency Ratios\",)\n",
    "    return latex\n"
   ]
  },
  {
   "cell_type": "code",
   "execution_count": 217,
   "metadata": {},
   "outputs": [],
   "source": [
    "import os \n",
    "import sys \n",
    "d = sys.path[0]\n",
    "output_dir = '{}/output'.format(d)\n",
    "filepath = '{}/output.tex'.format(output_dir)\n",
    "if not os.path.exists(output_dir):\n",
    "    os.makedirs(output_dir)\n",
    "\n",
    "with open(filepath, 'w') as fp:\n",
    "    fp.write(\n",
    "        \"\"\"\\\\documentclass{article}\n",
    "\\\\usepackage{graphicx} % Required for inserting images\n",
    "\\\\usepackage{amsmath} \n",
    "\n",
    "\\\\title{AHP}\n",
    "\\\\author{Alexander Gornostaev}\n",
    "\\\\date{March 2023}\n",
    "\n",
    "\\\\begin{document}\n",
    "\n",
    "\\\\maketitle\n",
    "    \"\"\"\n",
    "    )\n",
    "    for i in [comp_criteria, comp_cov_users, comp_impl_speed, comp_conv_users, comp_impl_cost]:\n",
    "        fp.write(latex_matrix(i))\n",
    "        fp.write('\\n')\n",
    "    fp.write(coefficient_ratio(crs))\n",
    "    fp.write('\\n')\n",
    "    fp.write(r'\\end{document}')\n",
    "    pass\n"
   ]
  }
 ],
 "metadata": {
  "kernelspec": {
   "display_name": "Python 3",
   "language": "python",
   "name": "python3"
  },
  "language_info": {
   "codemirror_mode": {
    "name": "ipython",
    "version": 3
   },
   "file_extension": ".py",
   "mimetype": "text/x-python",
   "name": "python",
   "nbconvert_exporter": "python",
   "pygments_lexer": "ipython3",
   "version": "3.10.3"
  },
  "orig_nbformat": 4
 },
 "nbformat": 4,
 "nbformat_minor": 2
}
